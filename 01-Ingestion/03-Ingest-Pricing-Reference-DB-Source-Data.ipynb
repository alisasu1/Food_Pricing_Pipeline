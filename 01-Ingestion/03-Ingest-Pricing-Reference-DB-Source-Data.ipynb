{
 "cells": [
  {
   "cell_type": "code",
   "execution_count": 0,
   "metadata": {
    "application/vnd.databricks.v1+cell": {
     "cellMetadata": {
      "byteLimit": 2048000,
      "rowLimit": 10000
     },
     "inputWidgets": {},
     "nuid": "27ca532c-ac17-47c9-89bb-138fc5ed8364",
     "showTitle": false,
     "tableResultSettingsMap": {},
     "title": ""
    }
   },
   "outputs": [],
   "source": [
    "pricingReferenceSourceTableName = dbutils.widgets.get(\"prm_pricingReferenceSourceTableName\")\n",
    "\n",
    "\n",
    "pricingReferenceSinkLayerName = 'bronze'\n",
    "pricingReferenceSinkStorageAccountName = 'adlsalidatalakehousedev'\n",
    "pricingReferenceSinkFolderName = 'reference-data'"
   ]
  },
  {
   "cell_type": "code",
   "execution_count": 0,
   "metadata": {
    "application/vnd.databricks.v1+cell": {
     "cellMetadata": {
      "byteLimit": 2048000,
      "rowLimit": 10000
     },
     "inputWidgets": {},
     "nuid": "f7768734-8a56-4404-9f4f-1c2295242168",
     "showTitle": false,
     "tableResultSettingsMap": {
      "0": {
       "dataGridStateBlob": "{\"version\":1,\"tableState\":{\"columnPinning\":{\"left\":[\"#row_number#\"],\"right\":[]},\"columnSizing\":{},\"columnVisibility\":{}},\"settings\":{\"columns\":{}},\"syncTimestamp\":1760417355462}",
       "filterBlob": null,
       "queryPlanFiltersBlob": null,
       "tableResultIndex": 0
      }
     },
     "title": ""
    }
   },
   "outputs": [],
   "source": [
    "JDBCconnectionUrl = \"jdbc:sqlserver://asqludacoursesserver.database.windows.net;encrypt=true;databaseName=asqludacourses;user=sourcereader;password=DBReader@2024\";\n",
    "# for key vault in azure\n",
    "# JDBCconnectionUrl = dbutils.secrets.get(scope = \"azure-key-vault-scope\",key = \"JDBCconnectionUrlSecret\")\n",
    "\n",
    "pricingReferenceSourceTableDF = (spark\n",
    "                                 .read\n",
    "                                 .format(\"jdbc\")\n",
    "                                 .option(\"url\", JDBCconnectionUrl)\n",
    "                                 .option(\"dbtable\",pricingReferenceSourceTableName)\n",
    "                                 .load()\n",
    ")\n"
   ]
  },
  {
   "cell_type": "code",
   "execution_count": 0,
   "metadata": {
    "application/vnd.databricks.v1+cell": {
     "cellMetadata": {
      "byteLimit": 2048000,
      "rowLimit": 10000
     },
     "inputWidgets": {},
     "nuid": "2c314728-49fc-4b9a-a240-f3afed6df2b9",
     "showTitle": false,
     "tableResultSettingsMap": {},
     "title": ""
    }
   },
   "outputs": [],
   "source": [
    "pricingReferenceSinkTableFolder = pricingReferenceSourceTableName.replace('.','/')"
   ]
  },
  {
   "cell_type": "code",
   "execution_count": 0,
   "metadata": {
    "application/vnd.databricks.v1+cell": {
     "cellMetadata": {
      "byteLimit": 2048000,
      "rowLimit": 10000
     },
     "inputWidgets": {},
     "nuid": "4c8ce8a8-f7cf-46f6-8f88-a8e2c01db88e",
     "showTitle": false,
     "tableResultSettingsMap": {},
     "title": ""
    }
   },
   "outputs": [],
   "source": [
    "pricingReferenceSinkFolderPath = f\"abfss://{pricingReferenceSinkLayerName}@{pricingReferenceSinkStorageAccountName}.dfs.core.windows.net/{pricingReferenceSinkFolderName}/{pricingReferenceSinkTableFolder}\"\n",
    "\n",
    "(\n",
    "    pricingReferenceSourceTableDF\n",
    "    .write\n",
    "    .mode(\"overwrite\")\n",
    "    .json(pricingReferenceSinkFolderPath)\n",
    ")"
   ]
  }
 ],
 "metadata": {
  "application/vnd.databricks.v1+notebook": {
   "computePreferences": null,
   "dashboards": [],
   "environmentMetadata": {
    "base_environment": "",
    "environment_version": "4"
   },
   "inputWidgetPreferences": null,
   "language": "python",
   "notebookMetadata": {
    "pythonIndentUnit": 4
   },
   "notebookName": "03-Ingest-Pricing-Reference-DB-Source-Data",
   "widgets": {
    "prm_pricingReferenceSourceTableName": {
     "currentValue": "masterdata.country_profile",
     "nuid": "97b1cc5a-a456-434c-94e2-48cbc11c9b7c",
     "typedWidgetInfo": {
      "autoCreated": false,
      "defaultValue": "",
      "label": "",
      "name": "prm_pricingReferenceSourceTableName",
      "options": {
       "widgetDisplayType": "Text",
       "validationRegex": null
      },
      "parameterDataType": "String"
     },
     "widgetInfo": {
      "widgetType": "text",
      "defaultValue": "",
      "label": "",
      "name": "prm_pricingReferenceSourceTableName",
      "options": {
       "widgetType": "text",
       "autoCreated": false,
       "validationRegex": null
      }
     }
    }
   }
  },
  "language_info": {
   "name": "python"
  }
 },
 "nbformat": 4,
 "nbformat_minor": 0
}
