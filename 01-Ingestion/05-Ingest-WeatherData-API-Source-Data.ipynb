{
 "cells": [
  {
   "cell_type": "markdown",
   "metadata": {
    "application/vnd.databricks.v1+cell": {
     "cellMetadata": {
      "byteLimit": 2048000,
      "rowLimit": 10000
     },
     "inputWidgets": {},
     "nuid": "3b85f8e3-9695-4edf-a46c-50a13c76e9a3",
     "showTitle": false,
     "tableResultSettingsMap": {},
     "title": ""
    }
   },
   "source": [
    "source API URL : \"https://archive-api.open-meteo.com/v1/archive?latitude=52.52&longitude=13.41&start_date=2023-01-01&end_date=2024-01-01&daily=temperature_2m_max,temperature_2m_min,rain_sum\"\n",
    "\n",
    "JSON Target File Path : \"abfss://bronze@datalakestorageaccountname.dfs.core.windows.net/bronze/weather-data/\n",
    "\""
   ]
  },
  {
   "cell_type": "code",
   "execution_count": 0,
   "metadata": {
    "application/vnd.databricks.v1+cell": {
     "cellMetadata": {
      "byteLimit": 2048000,
      "rowLimit": 10000
     },
     "inputWidgets": {},
     "nuid": "627a63df-3481-4035-9552-2adb64d2dff0",
     "showTitle": false,
     "tableResultSettingsMap": {},
     "title": ""
    }
   },
   "outputs": [],
   "source": [
    "weatherDataSourceAPIBaseURL = \"https://archive-api.open-meteo.com/v1/archive?latitude=\"\n",
    "weatherDataSourceAPIURLOptions = \"&daily=temperature_2m_max,temperature_2m_min,rain_sum\"\n",
    "\n",
    "weatherDataSinkLayerName = 'bronze'\n",
    "weatherDataSinkStorageAccountName = 'adlsalidatalakehousedev'\n",
    "weatherDataSinkFolderName = 'weather-data'\n",
    "\n",
    "weatherDataSinkFolderPath = f\"abfss://{weatherDataSinkLayerName}@{weatherDataSinkStorageAccountName}.dfs.core.windows.net/{weatherDataSinkFolderName}\""
   ]
  },
  {
   "cell_type": "code",
   "execution_count": 0,
   "metadata": {
    "application/vnd.databricks.v1+cell": {
     "cellMetadata": {
      "byteLimit": 2048000,
      "rowLimit": 10000
     },
     "inputWidgets": {},
     "nuid": "0b5670eb-1cfe-452b-9b14-ee0dd22c34df",
     "showTitle": false,
     "tableResultSettingsMap": {},
     "title": ""
    }
   },
   "outputs": [],
   "source": [
    "import requests\n",
    "import json\n",
    "import pandas as pds"
   ]
  },
  {
   "cell_type": "code",
   "execution_count": 0,
   "metadata": {
    "application/vnd.databricks.v1+cell": {
     "cellMetadata": {
      "byteLimit": 2048000,
      "rowLimit": 10000
     },
     "inputWidgets": {},
     "nuid": "b85f4ffc-d524-4d9d-9300-6326a4dae513",
     "showTitle": false,
     "tableResultSettingsMap": {},
     "title": ""
    }
   },
   "outputs": [],
   "source": [
    "geoLocationsDF = spark.sql(\"SELECT latitude, longitude, marketName FROM pricing_analytics.silver.geo_location_silver\")"
   ]
  },
  {
   "cell_type": "code",
   "execution_count": 0,
   "metadata": {
    "application/vnd.databricks.v1+cell": {
     "cellMetadata": {
      "byteLimit": 2048000,
      "rowLimit": 10000
     },
     "inputWidgets": {},
     "nuid": "ddc2d38e-a1f4-41eb-add5-b99c2effbc23",
     "showTitle": false,
     "tableResultSettingsMap": {},
     "title": ""
    }
   },
   "outputs": [],
   "source": [
    "weatherDataAPIResponseList = []\n",
    "for geoLocations in geoLocationsDF.collect():\n",
    "    weatherDataSourceAPIURL = f\"{weatherDataSourceAPIBaseURL}{geoLocations['latitude']}&longitude={geoLocations['longitude']}&start_date=2023-01-01&end_date=2023-12-31{weatherDataSourceAPIURLOptions}\"\n",
    "    weatherDataAPIResponse = requests.get(weatherDataSourceAPIURL).json()\n",
    "    print(weatherDataAPIResponse)\n",
    "    weatherDataAPIResponse[\"marketName\"] = geoLocations[\"marketName\"]\n",
    "    weatherDataAPIResponseJson = json.dumps(weatherDataAPIResponse)\n",
    "    if isinstance(weatherDataAPIResponse, dict):\n",
    "        weatherDataAPIResponseList.append(weatherDataAPIResponseJson)\n",
    "\n",
    "weatherDataPandasDF = pds.DataFrame(weatherDataAPIResponseList)\n",
    "\n",
    "weatherDataSparkDF = spark.createDataFrame(weatherDataPandasDF)\n",
    "\n",
    "(weatherDataSparkDF\n",
    " .write\n",
    " .mode(\"overwrite\")\n",
    " .json(weatherDataSinkFolderPath)\n",
    "\n",
    ")\n",
    "\n",
    "\n",
    "    \n"
   ]
  }
 ],
 "metadata": {
  "application/vnd.databricks.v1+notebook": {
   "computePreferences": null,
   "dashboards": [],
   "environmentMetadata": {
    "base_environment": "",
    "environment_version": "4"
   },
   "inputWidgetPreferences": null,
   "language": "python",
   "notebookMetadata": {
    "pythonIndentUnit": 4
   },
   "notebookName": "05-Ingest-WeatherData-API-Source-Data",
   "widgets": {}
  },
  "language_info": {
   "name": "python"
  }
 },
 "nbformat": 4,
 "nbformat_minor": 0
}
