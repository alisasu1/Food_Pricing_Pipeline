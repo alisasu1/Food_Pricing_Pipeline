{
 "cells": [
  {
   "cell_type": "markdown",
   "metadata": {
    "application/vnd.databricks.v1+cell": {
     "cellMetadata": {
      "byteLimit": 2048000,
      "rowLimit": 10000
     },
     "inputWidgets": {},
     "nuid": "eec48bd8-e594-4fa7-892c-1bfb853a2941",
     "showTitle": false,
     "tableResultSettingsMap": {},
     "title": ""
    }
   },
   "source": [
    "source API URL : \"https://geocoding-api.open-meteo.com/v1/search?name=kovilpatti&count=10&language=en&format=json\"\n",
    "\n",
    "JSON Target File Path : \"abfss://bronze@adlsalidatalakehousedev.dfs.core.windows.net/geo-location/\""
   ]
  },
  {
   "cell_type": "code",
   "execution_count": 0,
   "metadata": {
    "application/vnd.databricks.v1+cell": {
     "cellMetadata": {
      "byteLimit": 2048000,
      "rowLimit": 10000
     },
     "inputWidgets": {},
     "nuid": "e40cfe17-5f53-4c5a-b077-7af075cc4bfc",
     "showTitle": false,
     "tableResultSettingsMap": {},
     "title": ""
    }
   },
   "outputs": [],
   "source": [
    "geoLocationSourceAPIURL = \"https://geocoding-api.open-meteo.com/v1/search?name=kovilpatti&count=10&language=en&format=json\"\n",
    "\n",
    "geoLocationSourceAPIBaseURL = \"https://geocoding-api.open-meteo.com/v1/search?name=\"\n",
    "geoLocationSourceAPIURLOptions = \"&count=10&language=en&format=json\"\n",
    "\n",
    "geoLocationSinkLayerName = 'bronze'\n",
    "geoLocationSinkStorageAccountName = 'adlsalidatalakehousedev'\n",
    "geoLocationSinkFolderName = 'geo-location'\n",
    "\n",
    "geoLocationSinkFolderPath = f\"abfss://{geoLocationSinkLayerName}@{geoLocationSinkStorageAccountName}.dfs.core.windows.net/{geoLocationSinkFolderName}\""
   ]
  },
  {
   "cell_type": "code",
   "execution_count": 0,
   "metadata": {
    "application/vnd.databricks.v1+cell": {
     "cellMetadata": {
      "byteLimit": 2048000,
      "rowLimit": 10000
     },
     "inputWidgets": {},
     "nuid": "9e4a49d6-e16d-465f-9e2f-55ebbaf9908d",
     "showTitle": false,
     "tableResultSettingsMap": {},
     "title": ""
    }
   },
   "outputs": [],
   "source": [
    "import requests\n",
    "import json\n",
    "import pandas as pds"
   ]
  },
  {
   "cell_type": "code",
   "execution_count": 0,
   "metadata": {
    "application/vnd.databricks.v1+cell": {
     "cellMetadata": {
      "byteLimit": 2048000,
      "rowLimit": 10000
     },
     "inputWidgets": {},
     "nuid": "7870cde2-2b3b-4517-87c2-377611c8f831",
     "showTitle": false,
     "tableResultSettingsMap": {},
     "title": ""
    }
   },
   "outputs": [],
   "source": [
    "geoLocationAPIResponse = requests.get(geoLocationSourceAPIURL).json()\n",
    "geoLocationPandasDF = pds.DataFrame(geoLocationAPIResponse)\n",
    "geoLocationSparkDF = spark.createDataFrame(geoLocationPandasDF)"
   ]
  },
  {
   "cell_type": "code",
   "execution_count": 0,
   "metadata": {
    "application/vnd.databricks.v1+cell": {
     "cellMetadata": {
      "byteLimit": 2048000,
      "rowLimit": 10000
     },
     "inputWidgets": {},
     "nuid": "ca81b594-c7f4-4c21-adf6-c8d2a86e9f05",
     "showTitle": false,
     "tableResultSettingsMap": {},
     "title": ""
    }
   },
   "outputs": [],
   "source": [
    "dailyPricingMarketNamesDF = spark.sql(\"SELECT MARKET_NAME from pricing_analytics.gold.reporting_dim_market_gold\")"
   ]
  },
  {
   "cell_type": "code",
   "execution_count": 0,
   "metadata": {
    "application/vnd.databricks.v1+cell": {
     "cellMetadata": {
      "byteLimit": 2048000,
      "rowLimit": 10000
     },
     "inputWidgets": {},
     "nuid": "d75305fa-d22a-413f-a751-0a3eedebba31",
     "showTitle": false,
     "tableResultSettingsMap": {},
     "title": ""
    }
   },
   "outputs": [],
   "source": [
    "marketNames = [dailyPricingMarketNames[\"MARKET_NAME\"] for dailyPricingMarketNames in dailyPricingMarketNamesDF.collect()]\n",
    "geoLocationAPIResponseList=[]\n",
    "\n",
    "for marketName in marketNames:\n",
    "    geoLocationSourceAPIURL = f\"{geoLocationSourceAPIBaseURL}{marketName}{geoLocationSourceAPIURLOptions}\"\n",
    "    geoLocationAPIResponse = requests.get(geoLocationSourceAPIURL,timeout=10).json()\n",
    "    if isinstance(geoLocationAPIResponse, dict): #if null, not need to append\n",
    "        geoLocationAPIResponseList.append(geoLocationAPIResponse)\n",
    "    \n",
    "geoLocationPandasDF = pds.DataFrame(geoLocationAPIResponseList)\n",
    "\n",
    "geoLocationSparkDF = spark.createDataFrame(geoLocationPandasDF)\n",
    "(geoLocationSparkDF\n",
    "    .filter(\"results.admin1 is not null\")\n",
    "     .write\n",
    "     .mode(\"overwrite\")\n",
    "     .json(geoLocationSinkFolderPath)\n",
    "    )"
   ]
  },
  {
   "cell_type": "code",
   "execution_count": 0,
   "metadata": {
    "application/vnd.databricks.v1+cell": {
     "cellMetadata": {
      "byteLimit": 2048000,
      "rowLimit": 10000
     },
     "inputWidgets": {},
     "nuid": "1df6218a-ceed-4bdb-bbcb-1bff87800fd8",
     "showTitle": false,
     "tableResultSettingsMap": {},
     "title": ""
    }
   },
   "outputs": [],
   "source": [
    "geoLocationBronzeDF = spark.read.json(geoLocationSinkFolderPath)\n",
    "display(geoLocationBronzeDF)"
   ]
  }
 ],
 "metadata": {
  "application/vnd.databricks.v1+notebook": {
   "computePreferences": null,
   "dashboards": [],
   "environmentMetadata": {
    "base_environment": "",
    "environment_version": "4"
   },
   "inputWidgetPreferences": null,
   "language": "python",
   "notebookMetadata": {
    "pythonIndentUnit": 4
   },
   "notebookName": "04-Ingest-Geolocation-API-Source-Data",
   "widgets": {}
  },
  "language_info": {
   "name": "python"
  }
 },
 "nbformat": 4,
 "nbformat_minor": 0
}
